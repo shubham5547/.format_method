{
 "cells": [
  {
   "cell_type": "code",
   "execution_count": 1,
   "metadata": {},
   "outputs": [
    {
     "name": "stdout",
     "output_type": "stream",
     "text": [
      "type your name here shubham sharma\n",
      "type your age25\n",
      "your name is shubham sharma and your age is 25\n"
     ]
    }
   ],
   "source": [
    "# input function\n",
    "\n",
    "name = input(\"type your name here \")\n",
    "age = input(\"type your age\")\n",
    "print(\"your name is \" + name + \" and your age is \" + age)"
   ]
  },
  {
   "cell_type": "code",
   "execution_count": 6,
   "metadata": {},
   "outputs": [
    {
     "name": "stdout",
     "output_type": "stream",
     "text": [
      "enter your name and age shubham 25\n",
      "shubham\n",
      "25\n"
     ]
    }
   ],
   "source": [
    "# two inputs in one line\n",
    "# use spece between name and age\n",
    "name, age = input(\"enter your name and age \").split()\n",
    "print(name)\n",
    "print(age)"
   ]
  },
  {
   "cell_type": "code",
   "execution_count": 5,
   "metadata": {},
   "outputs": [
    {
     "name": "stdout",
     "output_type": "stream",
     "text": [
      "enter your name and age shubham,25\n",
      "shubham\n",
      "25\n"
     ]
    }
   ],
   "source": [
    "# if you want to change space with comma\n",
    "name, age = input(\"enter your name and age \").split(\",\")\n",
    "print(name)\n",
    "print(age)\n"
   ]
  },
  {
   "cell_type": "code",
   "execution_count": 17,
   "metadata": {},
   "outputs": [
    {
     "name": "stdout",
     "output_type": "stream",
     "text": [
      "enter first number :10\n",
      "enter second number :20\n",
      "enter third number :30\n",
      "average of three numbers : 20.0\n"
     ]
    }
   ],
   "source": [
    "# write a program to pic three number and output as a average\n",
    "# strings method use in python 3.6 version\n",
    "\n",
    "num1 = input(\"enter first number :\")\n",
    "num2 = input(\"enter second number :\")\n",
    "num3 = input(\"enter third number :\")\n",
    "print(f\"average of three numbers : {(int(num1) + int(num2) + int(num3))/3}\")"
   ]
  },
  {
   "cell_type": "code",
   "execution_count": 19,
   "metadata": {},
   "outputs": [
    {
     "name": "stdout",
     "output_type": "stream",
     "text": [
      "enter three number comma seperated : 10,15,20\n",
      "average of three numbers : 15.0\n"
     ]
    }
   ],
   "source": [
    "# write a program to pic three number and output as a average\n",
    "# strings method use in python3 version\n",
    "\n",
    "num1,num2,num3 = input(\"enter three number comma seperated : \").split(\",\")\n",
    "print(f\"average of three numbers : {(int(num1) + int(num2) + int(num3))/3}\")"
   ]
  },
  {
   "cell_type": "code",
   "execution_count": null,
   "metadata": {},
   "outputs": [],
   "source": []
  }
 ],
 "metadata": {
  "kernelspec": {
   "display_name": "Python 3",
   "language": "python",
   "name": "python3"
  },
  "language_info": {
   "codemirror_mode": {
    "name": "ipython",
    "version": 3
   },
   "file_extension": ".py",
   "mimetype": "text/x-python",
   "name": "python",
   "nbconvert_exporter": "python",
   "pygments_lexer": "ipython3",
   "version": "3.7.6"
  }
 },
 "nbformat": 4,
 "nbformat_minor": 4
}
